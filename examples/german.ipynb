{
 "cells": [
  {
   "cell_type": "markdown",
   "metadata": {},
   "source": [
    "# Smart Mendr\n",
    "\n",
    "We propose Smart Mendr, a new classification Model that applies Ensemble Learning and Data-driven Rectification to handle both scenarios of inaccurate and incomplete supervision. An overview of the proposed method is illustrated in Figure 5.1. As the figure shows, the method has two phases. In the first phase, Smart Mendr applies a preliminary stage of ensemble learning to estimate the probability of each instance being mislabeled and produce initially weak labels for unlabeled data. However, to overcome the challenges of noise detection using ensemble learning, we apply a semi-supervised learning approach to combine the output of the ensemble and report the noisy points. After that, the proposed method, in the second phase, applies a smart correcting procedure using meta-active learning to provide true labels for both noisy and unlabeled points"
   ]
  },
  {
   "cell_type": "code",
   "execution_count": 1,
   "metadata": {
    "ExecuteTime": {
     "end_time": "2019-01-29T02:34:02.347553Z",
     "start_time": "2019-01-29T02:34:02.274196Z"
    },
    "scrolled": false
   },
   "outputs": [],
   "source": [
    "%load_ext autoreload\n",
    "%autoreload 2\n",
    "%matplotlib inline\n",
    "import os\n",
    "import warnings\n",
    "import pandas as pd\n",
    "from sklearn.ensemble import RandomForestClassifier"
   ]
  },
  {
   "cell_type": "markdown",
   "metadata": {},
   "source": [
    "Reading and preparing the data from csv file"
   ]
  },
  {
   "cell_type": "code",
   "execution_count": 2,
   "metadata": {},
   "outputs": [],
   "source": [
    "def load_data(input_folder, dataset_name, y_column):\n",
    "    p_path =  input_folder + \"//\" + dataset_name + \"_noisy.csv\"\n",
    "    u_path =  input_folder + \"//\" + dataset_name + \"_unlabeled.csv\"\n",
    "    original_path = input_folder + \"//\" + dataset_name + \".csv\"\n",
    "    original_data = pd.read_csv(original_path, sep=',')\n",
    "\n",
    "    df_p = pd.read_csv(p_path, sep=',')\n",
    "    ground_truth = df_p[y_column]\n",
    "    df_p = df_p.drop(y_column, axis = 1)\n",
    "    df_u = pd.read_csv(u_path, sep=',') \n",
    "    df_u = df_u.drop(y_column, axis = 1)\n",
    "\n",
    "    return df_p, df_u, ground_truth, original_data"
   ]
  },
  {
   "cell_type": "code",
   "execution_count": 3,
   "metadata": {},
   "outputs": [],
   "source": [
    "df_p, df_u, ground_truth, original_data = load_data(\"datasets\", \"german\", \"prediction\")\n",
    "\n",
    "\n",
    "DU = original_data\n",
    "DU.index = [x for x in range(1, len(DU)+1)]\n",
    "DU.index.name = 'index'\n",
    "obj_columns = DU.select_dtypes(['object']).columns    \n",
    "for col in obj_columns:\n",
    "    DU[col] = DU[col].astype('category')\n",
    "cat_columns = DU.select_dtypes(['category']).columns    \n",
    "DU[cat_columns] = DU[cat_columns].apply(lambda x: x.cat.codes)\n",
    "\n",
    "obj_columns = df_p.select_dtypes(['object']).columns    \n",
    "for col in obj_columns:\n",
    "    df_p[col] = df_p[col].astype('category')\n",
    "cat_columns = df_p.select_dtypes(['category']).columns    \n",
    "df_p[cat_columns] = df_p[cat_columns].apply(lambda x: x.cat.codes)\n",
    "\n",
    "\n",
    "obj_columns = df_u.select_dtypes(['object']).columns   \n",
    "for col in obj_columns:\n",
    "    df_u[col] = df_u[col].astype('category')\n",
    "cat_columns = df_u.select_dtypes(['category']).columns    \n",
    "df_u[cat_columns] = df_u[cat_columns].apply(lambda x: x.cat.codes)"
   ]
  },
  {
   "cell_type": "markdown",
   "metadata": {},
   "source": [
    "## Ensemble Learning\n",
    "In this phase, the proposed method aims at detecting data points with noisy labels in Dp and producing initial labels for the unlabeled points in Du. Therefore, the phase employs a set of ensembles in two stages. In the first stage, a set of base learners are built to produce predictions for the data points in D. Then, the ensemble predictor is utilized in the second stage to detect noisy points Dnoise in Dp."
   ]
  },
  {
   "cell_type": "code",
   "execution_count": 4,
   "metadata": {},
   "outputs": [],
   "source": [
    "import numpy as np\n",
    "clf = RandomForestClassifier(n_estimators=10)\n",
    "clf = clf.fit(df_p, ground_truth)\n",
    "predictions_p = clf.predict(df_u)\n",
    "predictions_u = clf.predict(df_p)\n",
    "predictions = np.concatenate((predictions_u, predictions_p))\n",
    "\n",
    "original_p = ground_truth\n",
    "original_u = np.zeros(df_u.shape[0])\n",
    "original = np.concatenate((original_u, original_p))"
   ]
  },
  {
   "cell_type": "code",
   "execution_count": 5,
   "metadata": {},
   "outputs": [],
   "source": [
    "from scipy import sparse\n",
    "\n",
    "S = np.column_stack((predictions,original))\n",
    "S = S.astype(int)\n",
    "L_train= sparse.csr_matrix(S) \n"
   ]
  },
  {
   "cell_type": "markdown",
   "metadata": {},
   "source": [
    "Finally, to combine the output of the ensemble_learner and generate an initial vector of probabilistic labels, we employ a generative model to learn the accuracies of the predictions in H_Best and produce a single probabilistic label for each data point in the unlabeled dataset. "
   ]
  },
  {
   "cell_type": "code",
   "execution_count": 6,
   "metadata": {},
   "outputs": [
    {
     "name": "stdout",
     "output_type": "stream",
     "text": [
      "Inferred cardinality: 2\n",
      "[1.5285476  0.15343652]\n",
      "0.0\n"
     ]
    }
   ],
   "source": [
    "import smartmendr.ensemble_learner\n",
    "from smartmendr.ensemble_learner.util_ensemble import *\n",
    "\n",
    "global gen_model \n",
    "gen_model, gen_train_marginals = Fitting_Gen_Model(L_train)"
   ]
  },
  {
   "cell_type": "code",
   "execution_count": 7,
   "metadata": {
    "ExecuteTime": {
     "end_time": "2019-01-28T22:23:27.847504Z",
     "start_time": "2019-01-28T22:23:27.643505Z"
    }
   },
   "outputs": [
    {
     "data": {
      "text/html": [
       "<div>\n",
       "<style scoped>\n",
       "    .dataframe tbody tr th:only-of-type {\n",
       "        vertical-align: middle;\n",
       "    }\n",
       "\n",
       "    .dataframe tbody tr th {\n",
       "        vertical-align: top;\n",
       "    }\n",
       "\n",
       "    .dataframe thead th {\n",
       "        text-align: right;\n",
       "    }\n",
       "</style>\n",
       "<table border=\"1\" class=\"dataframe\">\n",
       "  <thead>\n",
       "    <tr style=\"text-align: right;\">\n",
       "      <th></th>\n",
       "      <th>Accuracy</th>\n",
       "      <th>Coverage</th>\n",
       "      <th>Precision</th>\n",
       "      <th>Recall</th>\n",
       "    </tr>\n",
       "  </thead>\n",
       "  <tbody>\n",
       "    <tr>\n",
       "      <th>0</th>\n",
       "      <td>0.954710</td>\n",
       "      <td>0.8302</td>\n",
       "      <td>0.952677</td>\n",
       "      <td>0.794499</td>\n",
       "    </tr>\n",
       "    <tr>\n",
       "      <th>1</th>\n",
       "      <td>0.578797</td>\n",
       "      <td>0.6669</td>\n",
       "      <td>0.586422</td>\n",
       "      <td>0.394260</td>\n",
       "    </tr>\n",
       "  </tbody>\n",
       "</table>\n",
       "</div>"
      ],
      "text/plain": [
       "   Accuracy  Coverage  Precision    Recall\n",
       "0  0.954710    0.8302   0.952677  0.794499\n",
       "1  0.578797    0.6669   0.586422  0.394260"
      ]
     },
     "execution_count": 7,
     "metadata": {},
     "output_type": "execute_result"
    }
   ],
   "source": [
    "predictions = gen_model.predictions(L_train, batch_size=None)\n",
    "gen_model.learned_lf_stats()"
   ]
  },
  {
   "cell_type": "code",
   "execution_count": 8,
   "metadata": {},
   "outputs": [
    {
     "data": {
      "text/plain": [
       "Index(['0', '1', '2', '3', '4', '5', '6', '7', '8', '9', '10', '11', '12',\n",
       "       '13', '14', '15', '16', '17', '18', '19', 'ground_truth'],\n",
       "      dtype='object')"
      ]
     },
     "execution_count": 8,
     "metadata": {},
     "output_type": "execute_result"
    }
   ],
   "source": [
    "columns_list = DU.columns\n",
    "columns_list"
   ]
  },
  {
   "cell_type": "code",
   "execution_count": 9,
   "metadata": {},
   "outputs": [
    {
     "data": {
      "text/plain": [
       "(1000,)"
      ]
     },
     "execution_count": 9,
     "metadata": {},
     "output_type": "execute_result"
    }
   ],
   "source": [
    "np.shape(gen_train_marginals.tolist())"
   ]
  },
  {
   "cell_type": "code",
   "execution_count": 10,
   "metadata": {},
   "outputs": [],
   "source": [
    "def Calculate_labeling_accuracy(threeshold, columns_list, train_marginals, df_original):\n",
    "    id_list = df_original.index\n",
    "    df_verify = df_original\n",
    "    print(len(id_list))\n",
    "\n",
    "    #df_verify ['index'] = id_list\n",
    "    df_verify ['Label'] = train_marginals.tolist()\n",
    "\n",
    "    df_verify.loc[df_verify ['Label'] >= threeshold, 'Label'] = 1\n",
    "    df_verify.loc[df_verify ['Label'] < threeshold, 'Label'] = -1\n",
    "\n",
    "    df_copy = df_original\n",
    "    df_copy = df_copy.drop(columns_list, axis = 1)\n",
    "\n",
    "    #print (\"1- df_copy columns\")\n",
    "    #print (df_copy.columns)\n",
    "    #calculating the labeling accuracy\n",
    "    counter = 0\n",
    "    for index, row in df_verify.iterrows():\n",
    "        if row['Label'] == float(row['ground_truth']):\n",
    "            counter = counter+1\n",
    "\n",
    "    labeling_accuracy = float(counter)/len(id_list)\n",
    "    return labeling_accuracy\n"
   ]
  },
  {
   "cell_type": "code",
   "execution_count": 11,
   "metadata": {},
   "outputs": [
    {
     "name": "stdout",
     "output_type": "stream",
     "text": [
      "1000\n",
      "0.451\n"
     ]
    }
   ],
   "source": [
    "noise_detection = Calculate_labeling_accuracy(0.5, columns_list, gen_train_marginals, DU)\n",
    "print(noise_detection)"
   ]
  },
  {
   "cell_type": "code",
   "execution_count": 12,
   "metadata": {},
   "outputs": [],
   "source": [
    "abstain = 0\n",
    "agreements_list=[]\n",
    "for rows in L_train:\n",
    "    if len(rows.data) == 0:\n",
    "        abstain=abstain+1      \n",
    "    agreements_list.append(abs(sum(rows.data)))"
   ]
  },
  {
   "cell_type": "markdown",
   "metadata": {},
   "source": [
    "## Data-driven Active Learner\n",
    "The component tries to integrate the user in the loop at this point by employing active learning. However, our problem settings do not impose traditional active learning scenarios where we usually have a small set of labeled points and a larger set of unlabeled data. Instead, we deal with a set of probabilistic labels that are classified based on the confidence of the generative model. Therefore, we adopt meta-active learning in this component and apply a data-driven approach to learn the query strategy. The approach formulates the process of designing the query strategy as a regression problem. We train a regression model to predict the reduction of the generalization error associated with adding a labeled point {xi, yi} to the training data of a classifier. Our main hypothesis is that this regressor can serve as the query strategy in our problem settings to outperform the baseline strategies since it is customized to the underlying distribution and considers the output of the generative model."
   ]
  },
  {
   "cell_type": "code",
   "execution_count": 13,
   "metadata": {},
   "outputs": [],
   "source": [
    "index_list = []\n",
    "agreements_list=[]\n",
    "unlabeled_list=[]\n",
    "i = 1\n",
    "for rows in L_train:\n",
    "    index_list.append(i)\n",
    "    if len(rows.data) == 0:\n",
    "        unlabeled_list.append(True)\n",
    "    else:\n",
    "        unlabeled_list.append(False)\n",
    "    agreements_list.append(abs(sum(rows.data)))\n",
    "    i=i+1\n",
    "    \n",
    "df_with_additional_info = pd.DataFrame(index_list)\n",
    "df_with_additional_info.columns=['index']\n",
    "df_with_additional_info['disagreement_factor'] = agreements_list\n",
    "df_with_additional_info['unlabeled_flag'] = unlabeled_list"
   ]
  },
  {
   "cell_type": "code",
   "execution_count": 14,
   "metadata": {},
   "outputs": [],
   "source": [
    "df_with_additional_info=df_with_additional_info.rename(columns={'index': 'index'})\n",
    "original_data = DU"
   ]
  },
  {
   "cell_type": "code",
   "execution_count": 15,
   "metadata": {},
   "outputs": [],
   "source": [
    "df_with_additional_info = df_with_additional_info.merge(original_data, on=['index'], how='left', indicator= True)"
   ]
  },
  {
   "cell_type": "code",
   "execution_count": 16,
   "metadata": {},
   "outputs": [
    {
     "name": "stdout",
     "output_type": "stream",
     "text": [
      "Data with additional info: disagreements and abstain\n",
      "(1000, 26)\n",
      "Data for Active learning: Data with additional info after applying conditions\n",
      "(1000, 26)\n"
     ]
    }
   ],
   "source": [
    "cond1 = df_with_additional_info['unlabeled_flag'] == True\n",
    "cond2 = df_with_additional_info['disagreement_factor'] <= 2\n",
    "df_active_learning= df_with_additional_info[cond1 | cond2]\n",
    "print(\"Data with additional info: disagreements and abstain\")\n",
    "print(df_with_additional_info.shape)\n",
    "print(\"Data for Active learning: Data with additional info after applying conditions\")\n",
    "print(df_active_learning.shape)\n",
    "df_active_learning = df_active_learning.drop(['unlabeled_flag', 'disagreement_factor', '_merge'], axis=1)\n",
    "df_active_learning['prediction'] = predictions"
   ]
  },
  {
   "cell_type": "code",
   "execution_count": 17,
   "metadata": {},
   "outputs": [
    {
     "data": {
      "text/plain": [
       "index           int32\n",
       "0               int32\n",
       "1               int32\n",
       "2               int32\n",
       "3               int32\n",
       "4               int32\n",
       "5               int32\n",
       "6               int32\n",
       "7               int32\n",
       "8               int32\n",
       "9               int32\n",
       "10              int32\n",
       "11              int32\n",
       "12              int32\n",
       "13              int32\n",
       "14              int32\n",
       "15              int32\n",
       "16              int32\n",
       "17              int32\n",
       "18              int32\n",
       "19              int32\n",
       "ground_truth    int32\n",
       "Label           int32\n",
       "prediction      int32\n",
       "dtype: object"
      ]
     },
     "execution_count": 17,
     "metadata": {},
     "output_type": "execute_result"
    }
   ],
   "source": [
    "df_active_learning = df_active_learning.fillna(0)\n",
    "df_active_learning.replace([np.inf, -np.inf], np.nan)\n",
    "df_active_learning.astype('int32').dtypes"
   ]
  },
  {
   "cell_type": "code",
   "execution_count": 18,
   "metadata": {},
   "outputs": [],
   "source": [
    "budget_variable = 0.7\n",
    "labeling_budget = int(budget_variable*len(df_with_additional_info.index))\n",
    "if(labeling_budget >= df_active_learning.shape[0]):\n",
    "    labeling_budget= int(1*len(df_active_learning.index))"
   ]
  },
  {
   "cell_type": "code",
   "execution_count": 19,
   "metadata": {},
   "outputs": [
    {
     "data": {
      "text/plain": [
       "RandomForestRegressor(bootstrap=True, criterion='mse', max_depth=40,\n",
       "           max_features=6, max_leaf_nodes=None, min_impurity_decrease=0.0,\n",
       "           min_impurity_split=None, min_samples_leaf=1,\n",
       "           min_samples_split=2, min_weight_fraction_leaf=0.0,\n",
       "           n_estimators=1000, n_jobs=8, oob_score=True, random_state=None,\n",
       "           verbose=0, warm_start=False)"
      ]
     },
     "execution_count": 19,
     "metadata": {},
     "output_type": "execute_result"
    }
   ],
   "source": [
    "from sklearn.ensemble import RandomForestRegressor\n",
    "from data_learner.active_learner import *\n",
    "from data_learner.models import DDL_Dataset \n",
    "from data_learner.lal_model import LALmodel\n",
    "\n",
    "fn = 'LAL-iterativetree-simulatedunbalanced-big.npz'\n",
    "parameters = {'est': 1000, 'depth': 40, 'feat': 6 }\n",
    "filename = '../smartmendr/data_learner/datasets/'+fn\n",
    "regression_data = np.load(filename)\n",
    "regression_features = regression_data['arr_0']\n",
    "regression_labels = regression_data['arr_1']\n",
    "lalModel = RandomForestRegressor(n_estimators = parameters['est'], max_depth = parameters['depth'], \n",
    "                                 max_features=parameters['feat'], oob_score=True, n_jobs=8)\n",
    "lalModel.fit(regression_features, np.ravel(regression_labels))    "
   ]
  },
  {
   "cell_type": "code",
   "execution_count": 20,
   "metadata": {},
   "outputs": [
    {
     "name": "stdout",
     "output_type": "stream",
     "text": [
      "[[  1.   0.  30. ...   0.   1.   1.]\n",
      " [  2.   3.  24. ...   0.   1.   1.]\n",
      " [  3.   3.  36. ...   0.   1.   1.]\n",
      " ...\n",
      " [798.   0.  27. ...   0.  -1.   1.]\n",
      " [799.   0.  24. ...   0.  -1.   1.]\n",
      " [800.   2.   6. ...   0.   1.   1.]]\n",
      "final results:\n",
      "-----------------\n",
      "[427.  39. 222.  49. 243.   6.  80.  26.  22. 225. 168.   4.  35.  85.\n",
      " 434. 128.  65.  48. 428.  52. 498. 309.  42. 454. 674. 462. 117. 668.\n",
      " 102. 269. 121. 501. 338. 114. 284.  58. 502. 283. 634. 125. 622. 272.\n",
      " 470. 767. 786. 143.  81. 795. 308. 296. 707. 262. 110. 126. 237. 263.\n",
      " 467. 719.  50. 221. 753.  44. 689.  53. 413. 107. 334. 723. 758. 496.\n",
      " 208. 145. 519. 174. 766. 436. 375.   3.  54.  61. 446. 148. 276. 525.\n",
      "   2. 749. 773.  82. 796.  51. 101.   8.  20. 311. 253.  17.  43. 274.\n",
      "  62.  60.   7.  47. 244.  45.  57. 246. 456.  56. 370.  59. 207.  15.\n",
      "  68.  33. 289.  16. 256.  30. 242. 763.  55.  63. 260.  71.  64.  13.\n",
      "  83.  70.  72.  91.  66.  19.  69.  92.  41.  76.   5.  84. 239.  67.\n",
      "  46.  94.  73. 510.  90.  87.  77.  75.  89.  88.  99. 752.  78. 100.\n",
      " 123.  93. 254.  86.  79.  31. 558. 421.  95. 258. 111. 249. 265.  74.\n",
      "  97. 250. 203. 247. 251. 245. 275. 248. 259. 273. 564.  98. 255. 450.\n",
      " 280. 257. 261. 267. 266. 292.  96. 288. 291. 282. 442. 252. 277. 279.\n",
      " 293. 302. 264. 268. 443. 270. 236. 290. 448. 457. 295. 486. 445. 301.\n",
      " 444. 452. 285. 480. 271. 459. 281. 294. 297. 447. 381. 705. 300. 562.\n",
      " 471. 458. 299. 451. 538. 278. 582. 469. 449. 473. 468. 464. 645. 298.\n",
      " 463. 481. 455. 316. 339. 453. 466. 474. 578. 556. 657. 477. 497. 484.\n",
      " 750. 461. 476. 460. 306. 647. 591. 475. 472. 593. 479. 287. 482. 549.\n",
      " 611. 491. 488. 495. 310. 485. 650. 793. 483. 465. 487. 736. 216. 489.\n",
      " 493. 504. 500. 494. 727. 522. 499. 644. 526. 492. 570. 490. 653. 590.\n",
      " 680. 600. 533. 417. 554. 518. 528. 667. 709. 580. 670. 646. 669. 661.\n",
      " 624. 601. 678. 712. 798. 656. 654. 660. 512. 663. 710. 675. 722. 683.\n",
      " 192. 557. 676. 693. 681. 382. 131. 684. 700. 718. 698. 697.  25. 721.\n",
      " 569. 658. 713. 418. 604. 696. 730. 762. 738. 699. 732. 122. 747. 741.\n",
      " 768. 778. 776. 785. 691. 789. 788. 332. 679. 790. 535. 779. 800. 774.\n",
      "  28.  38. 113.  12.  14.  10. 695. 163.  18.  23. 105.   9.  29.  36.\n",
      " 103.  32. 755. 104. 190.  34. 152. 784. 586.  24.  11. 108.  40. 106.\n",
      " 120. 112. 140. 171. 794. 153. 129. 167. 133.  27. 134. 240. 155. 154.\n",
      " 160. 180. 158. 195. 613. 157. 513. 146. 116. 132. 737. 620. 514. 181.\n",
      " 162. 115. 176. 156. 109. 166. 124. 169. 136. 142. 141. 165. 170. 147.\n",
      " 175. 188. 178. 138. 137. 173. 151.  21. 182. 391. 161. 150. 185. 183.\n",
      " 159. 303. 118. 144. 177. 576. 164. 149. 286. 503. 703. 127. 196. 313.\n",
      " 197. 652. 139. 119. 348. 135. 186. 201. 321. 226. 130. 184. 179. 189.\n",
      " 187. 193. 574. 701. 194. 198. 739. 210. 520. 410. 792. 506. 546. 213.\n",
      " 315. 204. 209. 682. 215. 205. 324. 191. 199. 220. 617. 212. 529. 344.\n",
      " 366. 219. 211. 347. 172. 439. 241. 214. 223. 232. 524. 636. 217. 328.\n",
      " 202. 782. 218. 200. 206. 343. 227. 765. 342. 224. 228. 349. 230. 325.\n",
      " 231. 345. 235. 229. 584. 353. 238. 350. 307. 346. 352. 322. 318. 234.\n",
      " 329. 305. 320. 356. 351. 233. 340. 317. 354. 326. 333. 341. 319. 357.\n",
      " 361. 358. 359. 337. 368. 355. 360. 304. 335. 363. 365. 330. 376. 614.\n",
      " 369. 331. 327. 362. 505. 387. 364. 688. 367. 666. 635. 372. 390. 385.\n",
      " 371. 539. 323. 312. 373. 648. 314. 378. 374. 379. 395. 437. 380. 377.\n",
      " 383. 386. 384. 388. 394. 392. 393. 398. 478. 404. 397. 408. 665. 401.\n",
      " 419. 396. 389. 559. 403. 399. 411. 405. 414. 400. 420. 547. 734. 422.\n",
      " 402. 571. 416. 780. 435. 424. 423. 425. 433. 438. 407. 511. 426. 507.\n",
      " 412. 415. 429. 432. 440. 441. 553. 531. 542. 579. 536. 409. 431. 552.\n",
      " 545. 592. 516. 543. 548. 430. 544. 406. 540. 560. 563. 509. 541. 595.\n",
      " 575. 532. 561. 550. 551. 581. 597. 594. 555. 568. 565. 527. 566. 577.\n",
      " 572. 585. 534. 588. 596. 589. 530. 515. 508. 521. 685. 567.]\n",
      "[ 1.  1.  1. -1. -1.  1. -1.  1.  1. -1.  1.  1.  1. -1.  1.  1. -1. -1.\n",
      "  1. -1. -1.  1. -1. -1. -1. -1.  1.  1.  1. -1.  1. -1.  1.  1. -1. -1.\n",
      "  1. -1. -1.  1.  1. -1. -1.  1. -1.  1. -1. -1.  1. -1.  1. -1.  1.  1.\n",
      "  1. -1. -1.  1. -1.  1.  1. -1. -1. -1.  1.  1.  1.  1.  1. -1.  1.  1.\n",
      "  1.  1. -1.  1.  1.  1. -1. -1. -1.  1. -1. -1.  1. -1.  1. -1.  1. -1.\n",
      " -1.  1.  1.  1. -1.  1. -1. -1. -1. -1.  1. -1. -1. -1. -1. -1. -1. -1.\n",
      "  1. -1.  1.  1. -1.  1. -1.  1. -1.  1. -1. -1. -1. -1. -1. -1. -1.  1.\n",
      " -1. -1. -1. -1. -1.  1. -1. -1.  1. -1.  1. -1.  1. -1. -1. -1. -1. -1.\n",
      " -1. -1. -1. -1. -1. -1. -1. -1. -1. -1. -1. -1. -1. -1. -1.  1. -1.  1.\n",
      "  1. -1.  1. -1. -1. -1. -1. -1.  1. -1. -1. -1. -1. -1. -1. -1.  1. -1.\n",
      " -1. -1. -1. -1. -1. -1. -1. -1. -1. -1. -1. -1. -1. -1. -1. -1. -1.  1.\n",
      " -1. -1. -1. -1.  1. -1. -1. -1. -1. -1. -1. -1. -1. -1. -1. -1. -1. -1.\n",
      " -1. -1. -1. -1.  1.  1. -1. -1. -1. -1. -1. -1. -1. -1. -1. -1. -1. -1.\n",
      " -1. -1. -1. -1. -1. -1. -1.  1. -1. -1. -1. -1. -1. -1. -1. -1. -1. -1.\n",
      "  1. -1. -1. -1.  1. -1.  1. -1. -1. -1. -1. -1. -1. -1. -1. -1. -1. -1.\n",
      "  1. -1. -1. -1. -1. -1. -1. -1.  1. -1. -1. -1. -1. -1.  1. -1. -1. -1.\n",
      " -1. -1.  1. -1. -1.  1. -1. -1. -1.  1.  1. -1. -1. -1. -1.  1. -1. -1.\n",
      " -1. -1. -1. -1. -1. -1.  1. -1. -1. -1.  1. -1. -1. -1. -1. -1.  1.  1.\n",
      " -1. -1. -1.  1.  1. -1. -1. -1. -1. -1.  1. -1. -1. -1. -1.  1.  1. -1.\n",
      " -1. -1. -1. -1. -1.  1. -1. -1. -1. -1. -1. -1. -1.  1. -1.  1. -1. -1.\n",
      "  1. -1.  1. -1.  1.  1.  1.  1.  1.  1.  1.  1.  1.  1.  1.  1.  1.  1.\n",
      "  1.  1.  1.  1.  1.  1.  1.  1.  1.  1.  1.  1.  1.  1.  1.  1.  1.  1.\n",
      "  1.  1.  1.  1.  1.  1.  1.  1.  1.  1.  1.  1.  1.  1.  1.  1.  1.  1.\n",
      "  1.  1.  1.  1.  1.  1.  1.  1.  1.  1.  1.  1.  1.  1.  1.  1.  1.  1.\n",
      "  1.  1.  1.  1.  1.  1.  1.  1.  1.  1.  1.  1.  1.  1.  1.  1.  1.  1.\n",
      "  1.  1.  1.  1.  1.  1.  1.  1.  1.  1.  1.  1.  1.  1.  1.  1.  1.  1.\n",
      "  1.  1.  1.  1.  1.  1.  1.  1.  1.  1.  1.  1.  1.  1.  1.  1.  1.  1.\n",
      "  1.  1.  1.  1.  1.  1.  1.  1.  1.  1.  1.  1.  1.  1.  1.  1.  1.  1.\n",
      "  1.  1.  1.  1.  1.  1.  1.  1.  1.  1.  1.  1.  1.  1.  1.  1.  1.  1.\n",
      "  1.  1.  1.  1.  1.  1.  1.  1.  1.  1.  1.  1.  1.  1.  1.  1.  1.  1.\n",
      "  1.  1.  1.  1.  1.  1.  1.  1.  1.  1.  1.  1.  1.  1.  1.  1.  1.  1.\n",
      "  1.  1.  1.  1.  1.  1.  1.  1.  1.  1.  1.  1.  1.  1.  1.  1.  1.  1.\n",
      "  1.  1.  1.  1.  1.  1.  1.  1.  1.  1.  1.  1.  1.  1.  1.  1.  1.  1.\n",
      "  1.  1.  1.  1.  1.  1.  1.  1.  1.  1.  1.  1.  1.  1.  1.  1.  1.  1.\n",
      "  1.  1.  1.  1.  1.  1.  1.  1.  1.  1.  1.  1.  1.  1.  1.  1.  1.  1.\n",
      "  1.  1.  1.  1.  1.  1.  1.  1.  1.  1.  1.  1.  1.  1.  1.  1.  1.  1.\n",
      "  1.  1.  1.  1.  1.  1.  1.  1.  1.  1.  1.  1.  1.  1.  1.  1.  1.  1.\n",
      "  1.  1.  1.  1.  1.  1.  1.  1.  1.  1.  1.  1.  1.  1.  1.  1.  1.  1.\n",
      "  1.  1.  1.  1.  1.  1.  1.  1.  1.  1.  1.  1.  1.  1.]\n"
     ]
    }
   ],
   "source": [
    "from smartmendr.data_learner.dl_utils import *\n",
    "indices, labels= run_dll(lalModel, labeling_budget,df_active_learning);"
   ]
  },
  {
   "cell_type": "code",
   "execution_count": 21,
   "metadata": {},
   "outputs": [],
   "source": [
    "AL_Results=pd.DataFrame(columns=['index','AL_Label'])\n",
    "AL_Results['index']=indices.astype('int64')\n",
    "AL_Results['AL_Label']=labels\n",
    "AL_Results = AL_Results.sort_values(by =['index'])"
   ]
  },
  {
   "cell_type": "code",
   "execution_count": 22,
   "metadata": {},
   "outputs": [
    {
     "name": "stderr",
     "output_type": "stream",
     "text": [
      "/home/mona/.local/lib/python3.6/site-packages/scipy/sparse/_index.py:126: SparseEfficiencyWarning: Changing the sparsity structure of a csr_matrix is expensive. lil_matrix is more efficient.\n",
      "  self._set_arrayXarray(i, j, x)\n"
     ]
    },
    {
     "name": "stdout",
     "output_type": "stream",
     "text": [
      "Inferred cardinality: 2\n",
      "[1.61873889 1.62844761]\n",
      "0.0\n"
     ]
    }
   ],
   "source": [
    "AL_Results.loc[AL_Results['AL_Label']==0, 'AL_Label']=-1\n",
    "data_with_AL_Results = df_with_additional_info.merge(AL_Results, on=['index'], how='left')\n",
    "true_label = data_with_AL_Results['AL_Label']\n",
    "true_label = true_label.fillna(0)\n",
    "for i in range(len(true_label)):\n",
    "    if true_label[i] !=0:\n",
    "        L_train[i,:]=true_label[i]\n",
    "gen_model, AL_train_marginals = Fitting_Gen_Model(L_train)\n",
    "predictions = gen_model.predictions(L_train, batch_size=None)\n"
   ]
  },
  {
   "cell_type": "code",
   "execution_count": 23,
   "metadata": {},
   "outputs": [
    {
     "name": "stdout",
     "output_type": "stream",
     "text": [
      "1000\n",
      "0.575\n"
     ]
    }
   ],
   "source": [
    "columns_list\n",
    "noise_detection = Calculate_labeling_accuracy(0.5, columns_list, AL_train_marginals, DU)\n",
    "print(noise_detection)"
   ]
  },
  {
   "cell_type": "code",
   "execution_count": null,
   "metadata": {},
   "outputs": [],
   "source": []
  }
 ],
 "metadata": {
  "kernelspec": {
   "display_name": "Python (snorkel)",
   "language": "python",
   "name": "snorkel"
  },
  "language_info": {
   "codemirror_mode": {
    "name": "ipython",
    "version": 3
   },
   "file_extension": ".py",
   "mimetype": "text/x-python",
   "name": "python",
   "nbconvert_exporter": "python",
   "pygments_lexer": "ipython3",
   "version": "3.6.7"
  }
 },
 "nbformat": 4,
 "nbformat_minor": 2
}
